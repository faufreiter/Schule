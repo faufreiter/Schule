{
 "cells": [
  {
   "cell_type": "markdown",
   "metadata": {
    "id": "OZKMQMBpp7vc"
   },
   "source": [
    "#Benotung: Spanisch\n",
    "\n",
    "## Ziel\n",
    "\n",
    "\n",
    "*   Automatisierung der Benotung (pandas)\n",
    "*   Erstellen von \"Benotungs-Nachrichten\"\n",
    "\n"
   ]
  },
  {
   "cell_type": "code",
   "execution_count": 1,
   "metadata": {
    "executionInfo": {
     "elapsed": 11,
     "status": "ok",
     "timestamp": 1672911108860,
     "user": {
      "displayName": "Felix Aufreiter",
      "userId": "12627123735092706395"
     },
     "user_tz": -60
    },
    "id": "b5fTa9h4qSja"
   },
   "outputs": [],
   "source": [
    "import numpy as np\n",
    "import pandas as pd\n",
    "import csv"
   ]
  },
  {
   "cell_type": "code",
   "execution_count": 4,
   "metadata": {
    "executionInfo": {
     "elapsed": 649,
     "status": "ok",
     "timestamp": 1672912391606,
     "user": {
      "displayName": "Felix Aufreiter",
      "userId": "12627123735092706395"
     },
     "user_tz": -60
    },
    "id": "TFK_WdbgqbjJ"
   },
   "outputs": [],
   "source": [
    "#benotung = pd.read_excel(\"/content/drive/MyDrive/Schule/IBC Hetzendorf/Benotung/Benotung-Vorlage - Musterklasse.xlsx\")\n",
    "benotung = pd.read_excel(\"Benotung-Vorlage - Musterklasse.xlsx\")"
   ]
  },
  {
   "cell_type": "code",
   "execution_count": 5,
   "metadata": {
    "colab": {
     "base_uri": "https://localhost:8080/"
    },
    "executionInfo": {
     "elapsed": 16,
     "status": "ok",
     "timestamp": 1672422125967,
     "user": {
      "displayName": "Felix Aufreiter",
      "userId": "12627123735092706395"
     },
     "user_tz": -60
    },
    "id": "26RSd_W8ukQN",
    "outputId": "fd34a2b9-c2dc-4ea7-d378-e9225d043258"
   },
   "outputs": [
    {
     "data": {
      "text/plain": [
       "Index(['Klasse', 'Nachname', 'Vorname', 'Geschlecht', 'e-Mail',\n",
       "       'Wintersemester', 'Schularbeit WS', 'Nachschularbeit WS',\n",
       "       'Wiederholungsschularbeit WS', 'repaso escrito WS 1',\n",
       "       'repaso escrito WS 2', 'repaso escrito WS 3', 'repaso oral WS 1',\n",
       "       'repaso oral WS 2', 'Notenstand WS', 'Mitarbeit WS', 'Hausübungen WS',\n",
       "       'Notwendige Leistung WS', 'Zusätzliche Anmerkungen WS', 'B - Note WS',\n",
       "       'Semesternote', 'Sommersemester', 'Schularbeit SS',\n",
       "       'Nachschularbeit SS', 'Wiederholungsschularbeit SS',\n",
       "       'repaso escrito SS 1', 'repaso escrito SS 2', 'repaso escrito SS 3',\n",
       "       'repaso oral SS 1', 'repaso oral SS 2', 'Notenstand SS', 'Mitarbeit SS',\n",
       "       'Hausübungen SS', 'Notwendige Leistung SS',\n",
       "       'Zusätzliche Anmerkungen SS', 'B - Note JN', 'Jahresnote'],\n",
       "      dtype='object')"
      ]
     },
     "execution_count": 5,
     "metadata": {},
     "output_type": "execute_result"
    }
   ],
   "source": [
    "benotung.columns"
   ]
  },
  {
   "cell_type": "code",
   "execution_count": 6,
   "metadata": {
    "colab": {
     "base_uri": "https://localhost:8080/"
    },
    "executionInfo": {
     "elapsed": 298,
     "status": "ok",
     "timestamp": 1672422128523,
     "user": {
      "displayName": "Felix Aufreiter",
      "userId": "12627123735092706395"
     },
     "user_tz": -60
    },
    "id": "662sh4888mEf",
    "outputId": "cde953ea-350b-428c-d020-ec9545fe17bd"
   },
   "outputs": [
    {
     "name": "stdout",
     "output_type": "stream",
     "text": [
      "(2, 37)\n"
     ]
    }
   ],
   "source": [
    "print(benotung.shape)"
   ]
  },
  {
   "cell_type": "code",
   "execution_count": 7,
   "metadata": {
    "colab": {
     "base_uri": "https://localhost:8080/"
    },
    "executionInfo": {
     "elapsed": 308,
     "status": "ok",
     "timestamp": 1672911115158,
     "user": {
      "displayName": "Felix Aufreiter",
      "userId": "12627123735092706395"
     },
     "user_tz": -60
    },
    "id": "0Gt29axEXB--",
    "outputId": "98df5c4b-f546-493d-df38-2f9851caaa5f"
   },
   "outputs": [
    {
     "data": {
      "text/plain": [
       "Klasse                          object\n",
       "Nachname                        object\n",
       "Vorname                         object\n",
       "Geschlecht                      object\n",
       "e-Mail                         float64\n",
       "Wintersemester                  object\n",
       "Schularbeit WS                  object\n",
       "Nachschularbeit WS              object\n",
       "Wiederholungsschularbeit WS    float64\n",
       "repaso escrito WS 1             object\n",
       "repaso escrito WS 2             object\n",
       "repaso escrito WS 3             object\n",
       "repaso oral WS 1                object\n",
       "repaso oral WS 2                object\n",
       "Notenstand WS                   object\n",
       "Mitarbeit WS                    object\n",
       "Hausübungen WS                  object\n",
       "Notwendige Leistung WS          object\n",
       "Zusätzliche Anmerkungen WS      object\n",
       "B - Note WS                     object\n",
       "Semesternote                    object\n",
       "Sommersemester                 float64\n",
       "Schularbeit SS                  object\n",
       "Nachschularbeit SS              object\n",
       "Wiederholungsschularbeit SS    float64\n",
       "repaso escrito SS 1             object\n",
       "repaso escrito SS 2             object\n",
       "repaso escrito SS 3             object\n",
       "repaso oral SS 1                object\n",
       "repaso oral SS 2                object\n",
       "Notenstand SS                   object\n",
       "Mitarbeit SS                    object\n",
       "Hausübungen SS                  object\n",
       "Notwendige Leistung SS          object\n",
       "Zusätzliche Anmerkungen SS      object\n",
       "B - Note JN                     object\n",
       "Jahresnote                      object\n",
       "dtype: object"
      ]
     },
     "execution_count": 7,
     "metadata": {},
     "output_type": "execute_result"
    }
   ],
   "source": [
    "benotung.dtypes"
   ]
  },
  {
   "cell_type": "code",
   "execution_count": 44,
   "metadata": {
    "colab": {
     "base_uri": "https://localhost:8080/"
    },
    "executionInfo": {
     "elapsed": 5,
     "status": "ok",
     "timestamp": 1672911121273,
     "user": {
      "displayName": "Felix Aufreiter",
      "userId": "12627123735092706395"
     },
     "user_tz": -60
    },
    "id": "6i0pkUrv8oUE",
    "outputId": "a4753f95-4878-4d5e-ddf4-dc5b96c978a5"
   },
   "outputs": [
    {
     "name": "stdout",
     "output_type": "stream",
     "text": [
      "Eva\n"
     ]
    }
   ],
   "source": [
    "# [1] = 2. Person auf der Liste = 2nd row; ['Vorname'] = column\n",
    "print(benotung.loc[1]['Vorname'])"
   ]
  },
  {
   "cell_type": "code",
   "execution_count": 43,
   "metadata": {
    "executionInfo": {
     "elapsed": 285,
     "status": "ok",
     "timestamp": 1672911119398,
     "user": {
      "displayName": "Felix Aufreiter",
      "userId": "12627123735092706395"
     },
     "user_tz": -60
    },
    "id": "wZzubwaVEOfr"
   },
   "outputs": [],
   "source": [
    "# 0 = Zeile 2 in Excel-Datei\n",
    "# 1 = 2. Person der Liste, Zeile 3 in Excel\n",
    "\n",
    "# Anrede function\n",
    "\n",
    "def Anrede(x):\n",
    "    if benotung.loc[x]['Geschlecht'] == 'm':\n",
    "      return f'Lieber {(benotung.loc[x][\"Vorname\"])},'\n",
    "    if benotung.loc[x]['Geschlecht'] == 'w':\n",
    "      return f'Liebe {(benotung.loc[x][\"Vorname\"])},'"
   ]
  },
  {
   "cell_type": "code",
   "execution_count": 45,
   "metadata": {
    "colab": {
     "base_uri": "https://localhost:8080/"
    },
    "executionInfo": {
     "elapsed": 320,
     "status": "ok",
     "timestamp": 1672911127116,
     "user": {
      "displayName": "Felix Aufreiter",
      "userId": "12627123735092706395"
     },
     "user_tz": -60
    },
    "id": "E9jNkHYYGt2a",
    "outputId": "c3d49f17-5183-4269-a2d4-9756d26b8d9f"
   },
   "outputs": [
    {
     "name": "stdout",
     "output_type": "stream",
     "text": [
      "Lieber Max,\n"
     ]
    }
   ],
   "source": [
    "print(Anrede(0))"
   ]
  },
  {
   "cell_type": "code",
   "execution_count": 51,
   "metadata": {
    "executionInfo": {
     "elapsed": 308,
     "status": "ok",
     "timestamp": 1672911270547,
     "user": {
      "displayName": "Felix Aufreiter",
      "userId": "12627123735092706395"
     },
     "user_tz": -60
    },
    "id": "F24E7g9KXa19"
   },
   "outputs": [],
   "source": [
    "def repaso_oral(a):\n",
    "    if pd.isna(benotung.loc[a]['Nachschularbeit SS']) == True:\n",
    "      pass #print('hallo')\n",
    "    else:\n",
    "     return (print(benotung.loc[a]['Nachschularbeit SS']))\n",
    "     # return print(benotung.loc[a]['Nachschularbeit SS'])\n",
    "\n",
    "# \"pass\" für keine Aktion\n",
    "# Zur Erkennung von NaN in \"object column\" Methode \"pd.isna()\" verwenden "
   ]
  },
  {
   "cell_type": "markdown",
   "metadata": {
    "id": "Ko8rXOnvHhSr"
   },
   "source": [
    "https://note.nkmk.me/en/python-pandas-nan-judge-count/\n",
    "\n",
    "Lösung: https://www.appsloveworld.com/pandas/100/284/float-object-has-no-attribute-isna "
   ]
  },
  {
   "cell_type": "code",
   "execution_count": 55,
   "metadata": {
    "colab": {
     "base_uri": "https://localhost:8080/"
    },
    "executionInfo": {
     "elapsed": 304,
     "status": "ok",
     "timestamp": 1672911315034,
     "user": {
      "displayName": "Felix Aufreiter",
      "userId": "12627123735092706395"
     },
     "user_tz": -60
    },
    "id": "WtCVxw87B6AI",
    "outputId": "b8ab0469-46ec-4342-a37f-2883a9bf625d"
   },
   "outputs": [
    {
     "name": "stdout",
     "output_type": "stream",
     "text": [
      "Nicht genügend\n"
     ]
    }
   ],
   "source": [
    "repaso_oral(1)"
   ]
  },
  {
   "cell_type": "code",
   "execution_count": 8,
   "metadata": {
    "colab": {
     "base_uri": "https://localhost:8080/"
    },
    "executionInfo": {
     "elapsed": 295,
     "status": "ok",
     "timestamp": 1672422215108,
     "user": {
      "displayName": "Felix Aufreiter",
      "userId": "12627123735092706395"
     },
     "user_tz": -60
    },
    "id": "5cN3zHw3cKJJ",
    "outputId": "a305ed13-f9d5-487d-810b-d09ca461a8c7"
   },
   "outputs": [
    {
     "data": {
      "text/plain": [
       "Index(['Klasse', 'Nachname', 'Vorname', 'Geschlecht', 'e-Mail',\n",
       "       'Wintersemester', 'Schularbeit WS', 'Nachschularbeit WS',\n",
       "       'Wiederholungsschularbeit WS', 'repaso escrito WS 1',\n",
       "       'repaso escrito WS 2', 'repaso escrito WS 3', 'repaso oral WS 1',\n",
       "       'repaso oral WS 2', 'Notenstand WS', 'Mitarbeit WS', 'Hausübungen WS',\n",
       "       'Notwendige Leistung WS', 'Zusätzliche Anmerkungen WS', 'B - Note WS',\n",
       "       'Semesternote', 'Sommersemester', 'Schularbeit SS',\n",
       "       'Nachschularbeit SS', 'Wiederholungsschularbeit SS',\n",
       "       'repaso escrito SS 1', 'repaso escrito SS 2', 'repaso escrito SS 3',\n",
       "       'repaso oral SS 1', 'repaso oral SS 2', 'Notenstand SS', 'Mitarbeit SS',\n",
       "       'Hausübungen SS', 'Notwendige Leistung SS',\n",
       "       'Zusätzliche Anmerkungen SS', 'B - Note JN', 'Jahresnote'],\n",
       "      dtype='object')"
      ]
     },
     "execution_count": 8,
     "metadata": {},
     "output_type": "execute_result"
    }
   ],
   "source": [
    "benotung.columns"
   ]
  },
  {
   "cell_type": "code",
   "execution_count": 78,
   "metadata": {
    "executionInfo": {
     "elapsed": 284,
     "status": "ok",
     "timestamp": 1672912130788,
     "user": {
      "displayName": "Felix Aufreiter",
      "userId": "12627123735092706395"
     },
     "user_tz": -60
    },
    "id": "fEEUT8shNL07"
   },
   "outputs": [],
   "source": [
    "#WINTERSEMESTER\n",
    "Schueler = 1\n",
    "\n",
    "#Schülerdaten\n",
    "schueler_vorname = benotung.loc[Schueler]['Vorname']\n",
    "schueler_nachname = benotung.loc[Schueler]['Nachname']\n",
    "#Semesterinformation\n",
    "daten_ws = benotung.loc[Schueler]['Wintersemester']\n",
    "\n",
    "#Schularbeitsnoten\n",
    "sa_ws = benotung.loc[Schueler]['Schularbeit WS']\n",
    "nachsa_ws = benotung.loc[Schueler]['Nachschularbeit WS']\n",
    "whsa_ws = benotung.loc[Schueler]['Wiederholungsschularbeit WS']\n",
    "\n",
    "#Leistungen der B-Note im Wintersemester\n",
    "rep_esc1ws = benotung.loc[Schueler]['repaso escrito WS 1']\n",
    "rep_esc2ws = benotung.loc[Schueler]['repaso escrito WS 2']\n",
    "rep_esc3ws = benotung.loc[Schueler]['repaso escrito WS 3']\n",
    "rep_or1ws = benotung.loc[Schueler]['repaso oral WS 1']\n",
    "rep_or2ws = benotung.loc[Schueler]['repaso oral WS 2']\n",
    "\n",
    "#Anmerkung zur Mitarbeit/zu den Hausübungen\n",
    "anm_mitarbeitws = benotung.loc[Schueler]['Mitarbeit WS']\n",
    "hausuebungen_ws = benotung.loc[Schueler]['Hausübungen WS']\n",
    "#Aktueller Notenstand\n",
    "notenstand_ws = benotung.loc[Schueler]['Notenstand WS']\n",
    "\n",
    "#Noch notwendige Leistung (Prüfung, mündliche WH, etc.)\n",
    "\n",
    "leistung_ws = benotung.loc[Schueler]['Notwendige Leistung WS']\n",
    "\n",
    "#Zusätzliche Anmerkungen \n",
    "anmerkungen_ws = benotung.loc[Schueler]['Zusätzliche Anmerkungen WS']"
   ]
  },
  {
   "cell_type": "code",
   "execution_count": null,
   "metadata": {
    "colab": {
     "base_uri": "https://localhost:8080/"
    },
    "executionInfo": {
     "elapsed": 290,
     "status": "ok",
     "timestamp": 1672422891053,
     "user": {
      "displayName": "Felix Aufreiter",
      "userId": "12627123735092706395"
     },
     "user_tz": -60
    },
    "id": "B8R-BJ89Qwkq",
    "outputId": "fe709050-f10a-4557-882d-d23aa98c2f0a"
   },
   "outputs": [
    {
     "name": "stdout",
     "output_type": "stream",
     "text": [
      "Liebe Eva,\n",
      "\n",
      "unterhalb findest du die wichtigsten INFORMATIONEN zu deinem aktuellen Notenstand im Wintersemester 2022/23.\n",
      "\n",
      "Schularbeitsnote(n) im Wintersemester 2022/23:\n",
      "--> Schularbeit: Befriedigend\n",
      "--> Nachschularbeit: nan\n",
      "--> Wiederholungsschularbeit: nan\n",
      "\n",
      "Leistungen der B-Note im Wintersemester 2022/23:\n",
      "--> repaso escrito 1: (+)\n",
      "--> repaso escrito 2: (+)\n",
      "--> repaso escrito 3: (-)\n",
      "--> repaso oral 1: (+)\n",
      "--> repaso oral 2: (-)\n",
      "\n",
      "Anmerkung zur Mitarbeit im Unterricht: nie aktiv\n",
      "Anmerkung zu den Hausübungen: selten abgegeben\n",
      "Aktueller Notenstand: Genügend\n",
      "Noch notwendige Leistung: mündliche Prüfung\n",
      "\n",
      "Zusätzliche Anmerkungen: Bitte an der Rechtschreibung arbeiten\n",
      "\n",
      "Liebe Grüße,\n",
      "Felix Aufreiter\n"
     ]
    }
   ],
   "source": [
    "#Vorlage für das Wintersemester - FACH Spanisch\n",
    "print(f'{Anrede(Schueler)}\\n')\n",
    "#SA-Note\n",
    "print(f'unterhalb findest du die wichtigsten INFORMATIONEN zu deinem aktuellen Notenstand im Wintersemester {daten_ws}.\\n') \n",
    "print(f'Schularbeitsnote(n) im Wintersemester {daten_ws}:\\n--> Schularbeit: {sa_ws}\\n--> Nachschularbeit: {nachsa_ws}\\n--> Wiederholungsschularbeit: {whsa_ws}\\n')\n",
    "#B-Note\n",
    "print(f'Leistungen der B-Note im Wintersemester {daten_ws}:')\n",
    "print(f'--> repaso escrito 1: ({rep_esc1ws})\\n--> repaso escrito 2: ({rep_esc2ws})\\n--> repaso escrito 3: ({rep_esc3ws})')\n",
    "print(f'--> repaso oral 1: ({rep_or1ws})\\n--> repaso oral 2: ({rep_or2ws})\\n')\n",
    "#Anmerkungen\n",
    "print(f'Anmerkung zur Mitarbeit im Unterricht: {anm_mitarbeitws}\\nAnmerkung zu den Hausübungen: {hausuebungen_ws}\\nAktueller Notenstand: {notenstand_ws}\\nNoch notwendige Leistung: {leistung_ws}\\n\\nZusätzliche Anmerkungen: {anmerkungen_ws}')\n",
    "print(f'\\nLiebe Grüße,\\nFelix Aufreiter')"
   ]
  },
  {
   "cell_type": "code",
   "execution_count": 60,
   "metadata": {
    "executionInfo": {
     "elapsed": 287,
     "status": "ok",
     "timestamp": 1672911571253,
     "user": {
      "displayName": "Felix Aufreiter",
      "userId": "12627123735092706395"
     },
     "user_tz": -60
    },
    "id": "NW7hbqJWSUl_"
   },
   "outputs": [],
   "source": [
    "#Musterfunktion\n",
    "\n",
    "def musterfunktion(a):\n",
    "    if pd.isna(benotung.loc[a]['Nachschularbeit SS']) == True:\n",
    "      pass #print('hallo')\n",
    "    else:\n",
    "     return (print(benotung.loc[a]['Nachschularbeit SS']))\n",
    "     # return print(benotung.loc[a]['Nachschularbeit SS'])\n",
    "\n",
    "# \"pass\" für keine Aktion\n",
    "# Zur Erkennung von NaN in \"object column\" Methode \"pd.isna()\" verwenden "
   ]
  },
  {
   "cell_type": "code",
   "execution_count": 61,
   "metadata": {
    "colab": {
     "base_uri": "https://localhost:8080/"
    },
    "executionInfo": {
     "elapsed": 303,
     "status": "ok",
     "timestamp": 1672911572788,
     "user": {
      "displayName": "Felix Aufreiter",
      "userId": "12627123735092706395"
     },
     "user_tz": -60
    },
    "id": "OZajbqYmSUZn",
    "outputId": "ddb33e8a-ffea-43ad-968e-b26d42005675"
   },
   "outputs": [
    {
     "name": "stdout",
     "output_type": "stream",
     "text": [
      "Nicht genügend\n"
     ]
    }
   ],
   "source": [
    "musterfunktion(1)"
   ]
  },
  {
   "cell_type": "code",
   "execution_count": 138,
   "metadata": {
    "executionInfo": {
     "elapsed": 429,
     "status": "ok",
     "timestamp": 1672914273465,
     "user": {
      "displayName": "Felix Aufreiter",
      "userId": "12627123735092706395"
     },
     "user_tz": -60
    },
    "id": "ss6o5FquSjdj"
   },
   "outputs": [],
   "source": [
    "#VERSION 2 - WINTERSEMESTER + FUNKTIONEN (incl. \"pass\")\n",
    "Schueler = 1\n",
    "\n",
    "#Schülerdaten\n",
    "schueler_vorname = benotung.loc[Schueler]['Vorname']\n",
    "schueler_nachname = benotung.loc[Schueler]['Nachname']\n",
    "#Semesterinformation\n",
    "daten_ws = benotung.loc[Schueler]['Wintersemester']\n",
    "\n",
    "#Schularbeitsnoten\n",
    "sa_ws = benotung.loc[Schueler]['Schularbeit WS']\n",
    "nachsa_ws = benotung.loc[Schueler]['Nachschularbeit WS']\n",
    "whsa_ws = benotung.loc[Schueler]['Wiederholungsschularbeit WS']\n",
    "\n",
    "#Leistungen der B-Note im Wintersemester\n",
    "rep_esc1ws = benotung.loc[Schueler]['repaso escrito WS 1']\n",
    "rep_esc2ws = benotung.loc[Schueler]['repaso escrito WS 2']\n",
    "rep_esc3ws = benotung.loc[Schueler]['repaso escrito WS 3']\n",
    "rep_or1ws = benotung.loc[Schueler]['repaso oral WS 1']\n",
    "rep_or2ws = benotung.loc[Schueler]['repaso oral WS 2']\n",
    "\n",
    "#Anmerkung zur Mitarbeit/zu den Hausübungen\n",
    "anm_mitarbeitws = benotung.loc[Schueler]['Mitarbeit WS']\n",
    "hausuebungen_ws = benotung.loc[Schueler]['Hausübungen WS']\n",
    "#Aktueller Notenstand\n",
    "notenstand_ws = benotung.loc[Schueler]['Notenstand WS']\n",
    "\n",
    "#Noch notwendige Leistung (Prüfung, mündliche WH, etc.)\n",
    "\n",
    "leistung_ws = benotung.loc[Schueler]['Notwendige Leistung WS']\n",
    "\n",
    "#Zusätzliche Anmerkungen \n",
    "anmerkungen_ws = benotung.loc[Schueler]['Zusätzliche Anmerkungen WS']"
   ]
  },
  {
   "cell_type": "code",
   "execution_count": 97,
   "metadata": {
    "executionInfo": {
     "elapsed": 295,
     "status": "ok",
     "timestamp": 1672912418534,
     "user": {
      "displayName": "Felix Aufreiter",
      "userId": "12627123735092706395"
     },
     "user_tz": -60
    },
    "id": "zSGzjoH-TRck"
   },
   "outputs": [],
   "source": [
    "#Musterfunktion ANGEPASST\n",
    "\n",
    "def musterfunktion(Schueler):\n",
    "    if pd.isna(nachsa_ws) == True:\n",
    "      pass #print('hallo')\n",
    "    else:\n",
    "     return (print(f'--> Nachschularbeit: {nachsa_ws}'))\n",
    "\n",
    "# \"pass\" für keine Aktion\n",
    "# Zur Erkennung von NaN in \"object column\" Methode \"pd.isna()\" verwenden "
   ]
  },
  {
   "cell_type": "code",
   "execution_count": 98,
   "metadata": {
    "colab": {
     "base_uri": "https://localhost:8080/"
    },
    "executionInfo": {
     "elapsed": 279,
     "status": "ok",
     "timestamp": 1672912421660,
     "user": {
      "displayName": "Felix Aufreiter",
      "userId": "12627123735092706395"
     },
     "user_tz": -60
    },
    "id": "7zu_PwUzT0tn",
    "outputId": "2bd54983-bab4-4b3f-b5ac-446cbf4b5464"
   },
   "outputs": [
    {
     "name": "stdout",
     "output_type": "stream",
     "text": [
      "--> Nachschularbeit: Gut\n"
     ]
    }
   ],
   "source": [
    "musterfunktion(Schueler)"
   ]
  },
  {
   "cell_type": "code",
   "execution_count": 139,
   "metadata": {
    "executionInfo": {
     "elapsed": 577,
     "status": "ok",
     "timestamp": 1672914280084,
     "user": {
      "displayName": "Felix Aufreiter",
      "userId": "12627123735092706395"
     },
     "user_tz": -60
    },
    "id": "_ylqHvdLWfVb"
   },
   "outputs": [],
   "source": [
    "#function \"Nachschularbeit WS\"\n",
    "def function_nachsa_ws(Schueler):\n",
    "    if pd.isna(nachsa_ws) == True:\n",
    "      pass\n",
    "    else:\n",
    "     return (print(f'--> Nachschularbeit: {nachsa_ws}'))\n",
    "\n",
    "#function \"Wiederholungsschularbeit WS\"\n",
    "def function_whsa_ws(Schueler):\n",
    "    if pd.isna(whsa_ws) == True:\n",
    "      pass\n",
    "    else:\n",
    "     return (print(f'--> Nachschularbeit: {whsa_ws}'))\n",
    "\n",
    "# function \"repaso escrito 1 WS\"\n",
    "def function_rep_esc1ws(Schueler):\n",
    "    if pd.isna(rep_esc1ws) == True:\n",
    "      pass\n",
    "    else:\n",
    "     return (print(f'--> repaso escrito 1: {rep_esc1ws}'))\n",
    "\n",
    "# function \"repaso escrito 2 WS\"\n",
    "def function_rep_esc2ws(Schueler):\n",
    "    if pd.isna(rep_esc2ws) == True:\n",
    "      pass\n",
    "    else:\n",
    "     return (print(f'--> repaso escrito 2: {rep_esc2ws}'))\n",
    "\n",
    "# function \"repaso escrito 3 WS\"\n",
    "def function_rep_esc3ws(Schueler):\n",
    "    if pd.isna(rep_esc3ws) == True:\n",
    "      pass\n",
    "    else:\n",
    "     return (print(f'--> repaso escrito 3: {rep_esc3ws}'))\n",
    "\n",
    "# function \"repaso oral 1 WS\"\n",
    "def function_rep_or1ws(Schueler):\n",
    "    if pd.isna(rep_or1ws) == True:\n",
    "      pass\n",
    "    else:\n",
    "     return (print(f'--> repaso oral 1: {rep_or1ws}'))\n",
    "\n",
    "# function \"repaso oral 2 WS\"\n",
    "def function_rep_or2ws(Schueler):\n",
    "    if pd.isna(rep_or2ws) == True:\n",
    "      pass\n",
    "    else:\n",
    "     return (print(f'--> repaso oral 2: {rep_or2ws}'))\n",
    "\n",
    "# function \"Notwendige Leistung WS\"\n",
    "def function_leistung_ws(Schueler):\n",
    "    if pd.isna(leistung_ws) == True:\n",
    "      pass\n",
    "    else:\n",
    "     return (print(f'Noch notwendige Leistung: {leistung_ws}'))"
   ]
  },
  {
   "cell_type": "code",
   "execution_count": null,
   "metadata": {
    "id": "dZNQ_armW9OD"
   },
   "outputs": [],
   "source": [
    "#Test\n",
    "function_nachsa_ws(Schueler)\n",
    "function_whsa_ws(Schueler)\n",
    "function_rep_esc1ws(Schueler)\n",
    "function_rep_esc2ws(Schueler)\n",
    "function_rep_esc3ws(Schueler)\n",
    "function_rep_or1ws(Schueler)\n",
    "function_rep_or2ws(Schueler)\n",
    "function_leistung_ws(Schueler)"
   ]
  },
  {
   "cell_type": "code",
   "execution_count": 140,
   "metadata": {
    "colab": {
     "base_uri": "https://localhost:8080/"
    },
    "executionInfo": {
     "elapsed": 14,
     "status": "ok",
     "timestamp": 1672914285457,
     "user": {
      "displayName": "Felix Aufreiter",
      "userId": "12627123735092706395"
     },
     "user_tz": -60
    },
    "id": "6NYdKOJKW3pR",
    "outputId": "ae90eb90-a20d-4ddc-f8f3-e884daaf024d"
   },
   "outputs": [
    {
     "name": "stdout",
     "output_type": "stream",
     "text": [
      "Liebe Eva,\n",
      "\n",
      "unterhalb findest du die wichtigsten INFORMATIONEN zu deinem aktuellen Notenstand im Wintersemester 2022/23.\n",
      "\n",
      "Schularbeitsnote(n) im Wintersemester 2022/23:\n",
      "--> Schularbeit: Befriedigend\n",
      "--> Nachschularbeit: Gut\n",
      " \n",
      "Leistungen der B-Note im Wintersemester 2022/23:\n",
      "--> repaso escrito 1: +\n",
      "--> repaso escrito 2: +\n",
      "--> repaso escrito 3: -\n",
      "--> repaso oral 1: +\n",
      "--> repaso oral 2: -\n",
      " \n",
      "Anmerkung zur Mitarbeit im Unterricht: nie aktiv\n",
      "Anmerkung zu den Hausübungen: selten abgegeben\n",
      "Aktueller Notenstand: Genügend\n",
      "\n",
      "Noch notwendige Leistung: mündliche Prüfung\n",
      "\n",
      "Zusätzliche Anmerkungen: Bitte an der Rechtschreibung arbeiten\n",
      "\n",
      "Liebe Grüße,\n",
      "Felix Aufreiter\n"
     ]
    }
   ],
   "source": [
    "#VERSION 2 (incl. functions) - Vorlage für das Wintersemester - FACH Spanisch\n",
    "print(f'{Anrede(Schueler)}\\n')\n",
    "\n",
    "#SA-Note\n",
    "print(f'unterhalb findest du die wichtigsten INFORMATIONEN zu deinem aktuellen Notenstand im Wintersemester {daten_ws}.\\n') \n",
    "print(f'Schularbeitsnote(n) im Wintersemester {daten_ws}:\\n--> Schularbeit: {sa_ws}')\n",
    "\n",
    "function_nachsa_ws(Schueler) #keine \"print\"-Funktion notwendig, bereits inkludiert\n",
    "function_whsa_ws(Schueler)\n",
    "print(\" \") #Absatz\n",
    "\n",
    "#B-Note (repaso escrito, repaso oral)\n",
    "print(f'Leistungen der B-Note im Wintersemester {daten_ws}:')\n",
    "function_rep_esc1ws(Schueler)\n",
    "function_rep_esc2ws(Schueler)\n",
    "function_rep_esc3ws(Schueler)\n",
    "function_rep_or1ws(Schueler)\n",
    "function_rep_or2ws(Schueler)\n",
    "print(\" \") #Absatz\n",
    "\n",
    "#Anmerkungen\n",
    "print(f'Anmerkung zur Mitarbeit im Unterricht: {anm_mitarbeitws}\\nAnmerkung zu den Hausübungen: {hausuebungen_ws}\\nAktueller Notenstand: {notenstand_ws}\\n')\n",
    "function_leistung_ws(Schueler)\n",
    "print(f'\\nZusätzliche Anmerkungen: {anmerkungen_ws}')\n",
    "print(f'\\nLiebe Grüße,\\nFelix Aufreiter')"
   ]
  },
  {
   "cell_type": "code",
   "execution_count": null,
   "metadata": {
    "id": "Ztmn2XiBSjXo"
   },
   "outputs": [],
   "source": []
  },
  {
   "cell_type": "code",
   "execution_count": null,
   "metadata": {
    "id": "LifpdXUoSjU3"
   },
   "outputs": [],
   "source": []
  },
  {
   "cell_type": "markdown",
   "metadata": {
    "id": "0gUWs_gEemO1"
   },
   "source": [
    "# Beurteilung: Zeugnis \n",
    "##Ganzjahresnote"
   ]
  },
  {
   "cell_type": "code",
   "execution_count": null,
   "metadata": {
    "colab": {
     "base_uri": "https://localhost:8080/"
    },
    "executionInfo": {
     "elapsed": 422,
     "status": "ok",
     "timestamp": 1672422460797,
     "user": {
      "displayName": "Felix Aufreiter",
      "userId": "12627123735092706395"
     },
     "user_tz": -60
    },
    "id": "CLBtB12iPLub",
    "outputId": "826de9bc-434a-4b4c-f5b4-100a65130256"
   },
   "outputs": [
    {
     "data": {
      "text/plain": [
       "Index(['Klasse', 'Nachname', 'Vorname', 'Geschlecht', 'Wintersemester',\n",
       "       'Schularbeit WS', 'Nachschularbeit WS', 'Wiederholungsschularbeit WS',\n",
       "       'repaso escrito WS 1', 'repaso escrito WS 2', 'repaso escrito WS 3',\n",
       "       'repaso oral WS 1', 'repaso oral WS 2', 'Notenstand WS', 'Mitarbeit WS',\n",
       "       'Hausübungen WS', 'Notwendige Leistung WS',\n",
       "       'Zusätzliche Anmerkungen WS', 'B - Note WS', 'Semesternote',\n",
       "       'Sommersemester', 'Schularbeit SS', 'Nachschularbeit SS',\n",
       "       'Wiederholungsschularbeit SS', 'repaso escrito SS 1',\n",
       "       'repaso escrito SS 2', 'repaso escrito SS 3', 'repaso oral SS 1',\n",
       "       'repaso oral SS 2', 'Notenstand SS', 'Mitarbeit SS', 'Hausübungen SS',\n",
       "       'Notwendige Leistung SS', 'Zusätzliche Anmerkungen SS', 'B - Note JN',\n",
       "       'Jahresnote'],\n",
       "      dtype='object')"
      ]
     },
     "execution_count": 324,
     "metadata": {},
     "output_type": "execute_result"
    }
   ],
   "source": [
    "benotung.columns"
   ]
  },
  {
   "cell_type": "code",
   "execution_count": null,
   "metadata": {
    "id": "v5vWIFTCBGxM"
   },
   "outputs": [],
   "source": [
    "#SOMMERSEMESTER (Jahresnote)\n",
    "Schueler_ss = 0\n",
    "\n",
    "#Schülerdaten\n",
    "schueler_vorname = benotung.loc[Schueler_ss]['Vorname']\n",
    "schueler_nachname = benotung.loc[Schueler_ss]['Nachname']\n",
    "#Wintersemester\n",
    "note_ws = benotung.loc[Schueler_ss]['Semesternote']\n",
    "#Semesterinformation\n",
    "benotung['Sommersemester'] = benotung['Sommersemester'].apply(np.int64)\n",
    "daten_ss = benotung.loc[Schueler_ss]['Sommersemester'] \n",
    "\n",
    "#Schularbeitsnoten\n",
    "sa_ss = benotung.loc[Schueler_ss]['Schularbeit SS']\n",
    "nachsa_ss = benotung.loc[Schueler_ss]['Nachschularbeit SS']\n",
    "whsa_ss = benotung.loc[Schueler_ss]['Wiederholungsschularbeit SS']\n",
    "\n",
    "#Leistungen der B-Note im Wintersemester\n",
    "rep_esc1ss = benotung.loc[Schueler_ss]['repaso escrito SS 1']\n",
    "rep_esc2ss = benotung.loc[Schueler_ss]['repaso escrito SS 2']\n",
    "rep_esc3ss = benotung.loc[Schueler_ss]['repaso escrito SS 3']\n",
    "rep_or1ss = benotung.loc[Schueler_ss]['repaso oral SS 1']\n",
    "rep_or2ss = benotung.loc[Schueler_ss]['repaso oral SS 2']\n",
    "\n",
    "#Anmerkung zur Mitarbeit/zu den Hausübungen\n",
    "anm_mitarbeitss = benotung.loc[Schueler_ss]['Mitarbeit SS']\n",
    "hausuebungen_ss = benotung.loc[Schueler_ss]['Hausübungen SS']\n",
    "\n",
    "\n",
    "#Aktueller Notenstand\n",
    "notenstand_ss = benotung.loc[Schueler_ss]['Notenstand SS']\n",
    "\n",
    "#Noch notwendige Leistung (Prüfung, mündliche WH, etc.)\n",
    "\n",
    "leistung_ss = benotung.loc[Schueler_ss]['Notwendige Leistung SS']\n",
    "\n",
    "#Zusätzliche Anmerkungen\n",
    "\n",
    "anmerkungen_ss = benotung.loc[Schueler_ss]['Zusätzliche Anmerkungen SS']"
   ]
  },
  {
   "cell_type": "code",
   "execution_count": null,
   "metadata": {
    "colab": {
     "base_uri": "https://localhost:8080/"
    },
    "executionInfo": {
     "elapsed": 276,
     "status": "ok",
     "timestamp": 1672422846354,
     "user": {
      "displayName": "Felix Aufreiter",
      "userId": "12627123735092706395"
     },
     "user_tz": -60
    },
    "id": "dB_ePoTIBG0h",
    "outputId": "06901910-7a16-4965-8c6c-a2b76b07900c"
   },
   "outputs": [
    {
     "name": "stdout",
     "output_type": "stream",
     "text": [
      "Lieber Max,\n",
      "\n",
      "unterhalb findest du die wichtigsten INFORMATIONEN zu deinem aktuellen Notenstand im Sommersemester 2023.\n",
      "\n",
      "Semesternote (WS 2022/23): Befriedigend\n",
      "\n",
      "Schularbeitsnote(n) im Sommersemester 2023:\n",
      "--> Schularbeit: Sehr gut\n",
      "--> Nachschularbeit: nan\n",
      "--> Wiederholungsschularbeit: nan\n",
      "\n",
      "Leistungen der B-Note im Sommersemester 2023:\n",
      "--> repaso escrito 1: (-)\n",
      "--> repaso escrito 2: (+)\n",
      "--> repaso escrito 3: (~)\n",
      "--> repaso oral 1: (+)\n",
      "--> repaso oral 2: (-)\n",
      "\n",
      "Anmerkung zur Mitarbeit im Unterricht: teilweise aktiv\n",
      "Anmerkung zu den Hausübungen: immer gemacht\n",
      "Aktueller Notenstand: Befriedigend\n",
      "Noch notwendige Leistung: Referat\n",
      "\n",
      "Zusätzliche Anmerkungen: \n",
      "\n",
      "Liebe Grüße,\n",
      "Felix Aufreiter\n"
     ]
    }
   ],
   "source": [
    "#Vorlage für das Sommersemester (Jahresnote) - FACH Spanisch\n",
    "print(f'{Anrede(Schueler_ss)}\\n')\n",
    "#SA-Note\n",
    "print(f'unterhalb findest du die wichtigsten INFORMATIONEN zu deinem aktuellen Notenstand im Sommersemester {daten_ss}.\\n') \n",
    "print(f'Semesternote (WS {daten_ws}): {note_ws}\\n')\n",
    "print(f'Schularbeitsnote(n) im Sommersemester {daten_ss}:\\n--> Schularbeit: {sa_ss}\\n--> Nachschularbeit: {nachsa_ss}\\n--> Wiederholungsschularbeit: {whsa_ws}\\n')\n",
    "#B-Note\n",
    "print(f'Leistungen der B-Note im Sommersemester {daten_ss}:')\n",
    "print(f'--> repaso escrito 1: ({rep_esc1ss})\\n--> repaso escrito 2: ({rep_esc2ss})\\n--> repaso escrito 3: ({rep_esc3ss})')\n",
    "print(f'--> repaso oral 1: ({rep_or1ss})\\n--> repaso oral 2: ({rep_or2ss})\\n')\n",
    "#Anmerkungen\n",
    "print(f'Anmerkung zur Mitarbeit im Unterricht: {anm_mitarbeitss}\\nAnmerkung zu den Hausübungen: {hausuebungen_ss}\\nAktueller Notenstand: {notenstand_ss}\\nNoch notwendige Leistung: {leistung_ss}\\n\\nZusätzliche Anmerkungen: ')\n",
    "print(f'\\nLiebe Grüße,\\nFelix Aufreiter')"
   ]
  }
 ],
 "metadata": {
  "colab": {
   "authorship_tag": "ABX9TyMRZpnxVe4e7o7hskSJlp74",
   "mount_file_id": "1n1ZsHGBRg5RJaU67kkFgkLBHSOwDeIMf",
   "provenance": []
  },
  "kernelspec": {
   "display_name": "Python 3 (ipykernel)",
   "language": "python",
   "name": "python3"
  },
  "language_info": {
   "codemirror_mode": {
    "name": "ipython",
    "version": 3
   },
   "file_extension": ".py",
   "mimetype": "text/x-python",
   "name": "python",
   "nbconvert_exporter": "python",
   "pygments_lexer": "ipython3",
   "version": "3.9.12"
  }
 },
 "nbformat": 4,
 "nbformat_minor": 4
}
