{
 "cells": [
  {
   "cell_type": "markdown",
   "id": "0c218f6c-8712-4b0f-9d83-b359716bf14a",
   "metadata": {},
   "source": [
    "# Benotung - Abend Spanisch\n",
    "\n",
    "## Abend-HAK + Kolleg\n",
    "\n",
    "* Mitarbeit ist nicht Teil der Benotung --> nur positive Anmerkungen werden vermerkt\n",
    "\n"
   ]
  },
  {
   "cell_type": "code",
   "execution_count": 4,
   "id": "a2fbd834-1a4d-472f-a722-d6d0920571c7",
   "metadata": {},
   "outputs": [],
   "source": [
    "import pandas as pd\n",
    "import numpy as np\n",
    "import csv"
   ]
  },
  {
   "cell_type": "code",
   "execution_count": null,
   "id": "ab2c55d3-7e43-4b58-a997-1e06ec8bd5dc",
   "metadata": {},
   "outputs": [],
   "source": []
  },
  {
   "cell_type": "code",
   "execution_count": null,
   "id": "6e6ac589-10c6-49d5-9905-ea22b8517ec8",
   "metadata": {},
   "outputs": [],
   "source": []
  },
  {
   "cell_type": "code",
   "execution_count": null,
   "id": "427a1733-d49d-45aa-b516-855e2d556265",
   "metadata": {},
   "outputs": [],
   "source": []
  },
  {
   "cell_type": "code",
   "execution_count": null,
   "id": "eafd838d-5d61-46ab-91d7-fefd9223c8bf",
   "metadata": {},
   "outputs": [],
   "source": []
  },
  {
   "cell_type": "markdown",
   "id": "a1ba6095-c69d-4274-b2e1-a53c623cea3b",
   "metadata": {},
   "source": [
    "## Microsoft Graph\n",
    "\n",
    "* Build Python apps with Microsoft Graph https://learn.microsoft.com/en-us/graph/tutorials/python?tabs=aad\n",
    "* microsoftgraph-python https://pypi.org/project/microsoftgraph-python/\n",
    "* https://learn.microsoft.com/en-us/graph/teams-concept-overview"
   ]
  },
  {
   "cell_type": "code",
   "execution_count": null,
   "id": "8ef7f8c5-b74b-48a2-941f-6f5867f791da",
   "metadata": {},
   "outputs": [],
   "source": [
    "#Microsoft Outlook\n",
    "import win32com.client as win32"
   ]
  },
  {
   "cell_type": "code",
   "execution_count": null,
   "id": "339d214e-1722-41d6-b838-97db01fd18f9",
   "metadata": {},
   "outputs": [],
   "source": []
  },
  {
   "cell_type": "code",
   "execution_count": null,
   "id": "af8df231-fb51-4242-9d45-ab30f1979a81",
   "metadata": {},
   "outputs": [],
   "source": [
    "# THE PYTHON SDK IS IN PREVIEW. FOR NON-PRODUCTION USE ONLY\n",
    "\n",
    "graph_client = GraphServiceClient(credentials, scopes)\n",
    "\n",
    "request_body = ChatMessage(\n",
    "\tbody = ItemBody(\n",
    "\t\tcontent = \"Hello world\",\n",
    "\t),\n",
    ")\n",
    "\n",
    "result = await graph_client.chats.by_chat_id('chat-id').messages.post(request_body)"
   ]
  },
  {
   "cell_type": "code",
   "execution_count": null,
   "id": "1fc1d187-8c14-44a1-8830-f8430595ccef",
   "metadata": {},
   "outputs": [],
   "source": []
  }
 ],
 "metadata": {
  "kernelspec": {
   "display_name": "Python 3 (ipykernel)",
   "language": "python",
   "name": "python3"
  },
  "language_info": {
   "codemirror_mode": {
    "name": "ipython",
    "version": 3
   },
   "file_extension": ".py",
   "mimetype": "text/x-python",
   "name": "python",
   "nbconvert_exporter": "python",
   "pygments_lexer": "ipython3",
   "version": "3.9.12"
  }
 },
 "nbformat": 4,
 "nbformat_minor": 5
}
