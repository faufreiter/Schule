{
 "cells": [
  {
   "cell_type": "markdown",
   "metadata": {
    "id": "OZKMQMBpp7vc"
   },
   "source": [
    "# Benotung: Spanisch\n",
    "\n",
    "## Ziel\n",
    "\n",
    "\n",
    "*   Automatisierung der Benotung (pandas)\n",
    "*   Erstellen von \"Benotungs-Nachrichten\"\n",
    "\n"
   ]
  },
  {
   "cell_type": "code",
   "execution_count": 1,
   "metadata": {
    "id": "b5fTa9h4qSja"
   },
   "outputs": [],
   "source": [
    "import numpy as np\n",
    "import pandas as pd\n",
    "import csv"
   ]
  },
  {
   "cell_type": "code",
   "execution_count": null,
   "metadata": {
    "id": "TFK_WdbgqbjJ"
   },
   "outputs": [],
   "source": [
    "# Vorher VERBINDUNG zu Google Drive Herstellen!\n",
    "benotung = pd.read_excel(\"/content/drive/MyDrive/Schule/IBC Hetzendorf/Benotung/Benotung-Vorlage - Musterklasse.xlsx\")\n"
   ]
  },
  {
   "cell_type": "code",
   "execution_count": null,
   "metadata": {
    "colab": {
     "base_uri": "https://localhost:8080/"
    },
    "id": "ss6o5FquSjdj",
    "outputId": "6c3a4d58-0949-47a1-e2ef-8cc50ff31854"
   },
   "outputs": [
    {
     "name": "stdout",
     "output_type": "stream",
     "text": [
      "Lieber Max,\n",
      "\n",
      "unterhalb findest du die wichtigsten INFORMATIONEN zu deinem aktuellen Notenstand im Wintersemester 2022/23.\n",
      "\n",
      "Schularbeitsnote(n) im Wintersemester 2022/23:\n",
      "--> Schularbeit: Gut\n",
      " \n",
      "Leistungen der B-Note im Wintersemester 2022/23:\n",
      "--> repaso escrito 1: -\n",
      "--> repaso escrito 2: +\n",
      "--> repaso escrito 3: ~\n",
      "--> repaso oral 1: +\n",
      "--> repaso oral 2: -\n",
      " \n",
      "Anmerkung zur Mitarbeit im Unterricht: kaum aktiv\n",
      "Anmerkung zu den Hausübungen: regelmäßig\n",
      "Aktueller Notenstand: Befriedigend\n",
      "\n",
      "Noch notwendige Leistung: mündliche WH\n",
      "\n",
      "Zusätzliche Anmerkungen: Buen trabajo!\n",
      "\n",
      "Liebe Grüße,\n",
      "Felix Aufreiter\n"
     ]
    }
   ],
   "source": [
    "#VERSION 2 - WINTERSEMESTER + FUNKTIONEN (incl. \"pass\")\n",
    "\n",
    "# 0 = Zeile 2 in Excel-Datei\n",
    "# 1 = 2. Person der Liste, Zeile 3 in Excel\n",
    "\n",
    "#HIER Nummer für Schüler eintragen\n",
    "Schueler = 0\n",
    "\n",
    "#Schülerdaten\n",
    "schueler_vorname = benotung.loc[Schueler]['Vorname']\n",
    "schueler_nachname = benotung.loc[Schueler]['Nachname']\n",
    "#Semesterinformation\n",
    "daten_ws = benotung.loc[Schueler]['Wintersemester']\n",
    "\n",
    "#Schularbeitsnoten\n",
    "sa_ws = benotung.loc[Schueler]['Schularbeit WS']\n",
    "nachsa_ws = benotung.loc[Schueler]['Nachschularbeit WS']\n",
    "whsa_ws = benotung.loc[Schueler]['Wiederholungsschularbeit WS']\n",
    "\n",
    "#Leistungen der B-Note im Wintersemester\n",
    "rep_esc1ws = benotung.loc[Schueler]['repaso escrito WS 1']\n",
    "rep_esc2ws = benotung.loc[Schueler]['repaso escrito WS 2']\n",
    "rep_esc3ws = benotung.loc[Schueler]['repaso escrito WS 3']\n",
    "rep_or1ws = benotung.loc[Schueler]['repaso oral WS 1']\n",
    "rep_or2ws = benotung.loc[Schueler]['repaso oral WS 2']\n",
    "\n",
    "#Anmerkung zur Mitarbeit/zu den Hausübungen\n",
    "anm_mitarbeitws = benotung.loc[Schueler]['Mitarbeit WS']\n",
    "hausuebungen_ws = benotung.loc[Schueler]['Hausübungen WS']\n",
    "#Aktueller Notenstand\n",
    "notenstand_ws = benotung.loc[Schueler]['Notenstand WS']\n",
    "\n",
    "#Noch notwendige Leistung (Prüfung, mündliche WH, etc.)\n",
    "\n",
    "leistung_ws = benotung.loc[Schueler]['Notwendige Leistung WS']\n",
    "\n",
    "#Zusätzliche Anmerkungen \n",
    "anmerkungen_ws = benotung.loc[Schueler]['Zusätzliche Anmerkungen WS']\n",
    "\n",
    "\n",
    "# -- FUNCTIONS --\n",
    "\n",
    "# Anrede function\n",
    "\n",
    "def Anrede(x):\n",
    "    if benotung.loc[x]['Geschlecht'] == 'm':\n",
    "      return f'Lieber {(benotung.loc[x][\"Vorname\"])},'\n",
    "    if benotung.loc[x]['Geschlecht'] == 'w':\n",
    "      return f'Liebe {(benotung.loc[x][\"Vorname\"])},'\n",
    "\n",
    "#function \"Nachschularbeit WS\"\n",
    "def function_nachsa_ws(Schueler):\n",
    "    if pd.isna(nachsa_ws) == True:\n",
    "      pass\n",
    "    else:\n",
    "     return (print(f'--> Nachschularbeit: {nachsa_ws}'))\n",
    "\n",
    "#function \"Wiederholungsschularbeit WS\"\n",
    "def function_whsa_ws(Schueler):\n",
    "    if pd.isna(whsa_ws) == True:\n",
    "      pass\n",
    "    else:\n",
    "     return (print(f'--> Nachschularbeit: {whsa_ws}'))\n",
    "\n",
    "# function \"repaso escrito 1 WS\"\n",
    "def function_rep_esc1ws(Schueler):\n",
    "    if pd.isna(rep_esc1ws) == True:\n",
    "      pass\n",
    "    else:\n",
    "     return (print(f'--> repaso escrito 1: {rep_esc1ws}'))\n",
    "\n",
    "# function \"repaso escrito 2 WS\"\n",
    "def function_rep_esc2ws(Schueler):\n",
    "    if pd.isna(rep_esc2ws) == True:\n",
    "      pass\n",
    "    else:\n",
    "     return (print(f'--> repaso escrito 2: {rep_esc2ws}'))\n",
    "\n",
    "# function \"repaso escrito 3 WS\"\n",
    "def function_rep_esc3ws(Schueler):\n",
    "    if pd.isna(rep_esc3ws) == True:\n",
    "      pass\n",
    "    else:\n",
    "     return (print(f'--> repaso escrito 3: {rep_esc3ws}'))\n",
    "\n",
    "# function \"repaso oral 1 WS\"\n",
    "def function_rep_or1ws(Schueler):\n",
    "    if pd.isna(rep_or1ws) == True:\n",
    "      pass\n",
    "    else:\n",
    "     return (print(f'--> repaso oral 1: {rep_or1ws}'))\n",
    "\n",
    "# function \"repaso oral 2 WS\"\n",
    "def function_rep_or2ws(Schueler):\n",
    "    if pd.isna(rep_or2ws) == True:\n",
    "      pass\n",
    "    else:\n",
    "     return (print(f'--> repaso oral 2: {rep_or2ws}'))\n",
    "\n",
    "# function \"Notwendige Leistung WS\"\n",
    "def function_leistung_ws(Schueler):\n",
    "    if pd.isna(leistung_ws) == True:\n",
    "      pass\n",
    "    else:\n",
    "     return (print(f'Noch notwendige Leistung: {leistung_ws}'))\n",
    "\n",
    "#TEST\n",
    "\n",
    "#function_nachsa_ws(Schueler)\n",
    "#function_whsa_ws(Schueler)\n",
    "#function_rep_esc1ws(Schueler)\n",
    "#function_rep_esc2ws(Schueler)\n",
    "#function_rep_esc3ws(Schueler)\n",
    "#function_rep_or1ws(Schueler)\n",
    "#function_rep_or2ws(Schueler)\n",
    "#function_leistung_ws(Schueler)\n",
    "\n",
    "#VERSION 2 (incl. functions) - Vorlage für das Wintersemester - FACH Spanisch\n",
    "print(f'{Anrede(Schueler)}\\n')\n",
    "\n",
    "#SA-Note\n",
    "print(f'unterhalb findest du die wichtigsten INFORMATIONEN zu deinem aktuellen Notenstand im Wintersemester {daten_ws}.\\n') \n",
    "print(f'Schularbeitsnote(n) im Wintersemester {daten_ws}:\\n--> Schularbeit: {sa_ws}')\n",
    "\n",
    "function_nachsa_ws(Schueler) #keine \"print\"-Funktion notwendig, bereits inkludiert\n",
    "function_whsa_ws(Schueler)\n",
    "print(\" \") #Absatz\n",
    "\n",
    "#B-Note (repaso escrito, repaso oral)\n",
    "print(f'Leistungen der B-Note im Wintersemester {daten_ws}:')\n",
    "function_rep_esc1ws(Schueler)\n",
    "function_rep_esc2ws(Schueler)\n",
    "function_rep_esc3ws(Schueler)\n",
    "function_rep_or1ws(Schueler)\n",
    "function_rep_or2ws(Schueler)\n",
    "print(\" \") #Absatz\n",
    "\n",
    "#Anmerkungen\n",
    "print(f'Anmerkung zur Mitarbeit im Unterricht: {anm_mitarbeitws}\\nAnmerkung zu den Hausübungen: {hausuebungen_ws}\\nAktueller Notenstand: {notenstand_ws}\\n')\n",
    "function_leistung_ws(Schueler)\n",
    "print(f'\\nZusätzliche Anmerkungen: {anmerkungen_ws}')\n",
    "print(f'\\nLiebe Grüße,\\nFelix Aufreiter')\n"
   ]
  },
  {
   "cell_type": "markdown",
   "metadata": {
    "id": "0gUWs_gEemO1"
   },
   "source": [
    "# Beurteilung: Zeugnis \n",
    "## Ganzjahresnote"
   ]
  },
  {
   "cell_type": "code",
   "execution_count": null,
   "metadata": {
    "colab": {
     "base_uri": "https://localhost:8080/"
    },
    "id": "CLBtB12iPLub",
    "outputId": "826de9bc-434a-4b4c-f5b4-100a65130256"
   },
   "outputs": [
    {
     "data": {
      "text/plain": [
       "Index(['Klasse', 'Nachname', 'Vorname', 'Geschlecht', 'Wintersemester',\n",
       "       'Schularbeit WS', 'Nachschularbeit WS', 'Wiederholungsschularbeit WS',\n",
       "       'repaso escrito WS 1', 'repaso escrito WS 2', 'repaso escrito WS 3',\n",
       "       'repaso oral WS 1', 'repaso oral WS 2', 'Notenstand WS', 'Mitarbeit WS',\n",
       "       'Hausübungen WS', 'Notwendige Leistung WS',\n",
       "       'Zusätzliche Anmerkungen WS', 'B - Note WS', 'Semesternote',\n",
       "       'Sommersemester', 'Schularbeit SS', 'Nachschularbeit SS',\n",
       "       'Wiederholungsschularbeit SS', 'repaso escrito SS 1',\n",
       "       'repaso escrito SS 2', 'repaso escrito SS 3', 'repaso oral SS 1',\n",
       "       'repaso oral SS 2', 'Notenstand SS', 'Mitarbeit SS', 'Hausübungen SS',\n",
       "       'Notwendige Leistung SS', 'Zusätzliche Anmerkungen SS', 'B - Note JN',\n",
       "       'Jahresnote'],\n",
       "      dtype='object')"
      ]
     },
     "execution_count": 324,
     "metadata": {},
     "output_type": "execute_result"
    }
   ],
   "source": [
    "benotung.columns"
   ]
  },
  {
   "cell_type": "code",
   "execution_count": null,
   "metadata": {
    "id": "v5vWIFTCBGxM"
   },
   "outputs": [],
   "source": [
    "#SOMMERSEMESTER (Jahresnote)\n",
    "Schueler_ss = 0\n",
    "\n",
    "#Schülerdaten\n",
    "schueler_vorname = benotung.loc[Schueler_ss]['Vorname']\n",
    "schueler_nachname = benotung.loc[Schueler_ss]['Nachname']\n",
    "#Wintersemester\n",
    "note_ws = benotung.loc[Schueler_ss]['Semesternote']\n",
    "#Semesterinformation\n",
    "benotung['Sommersemester'] = benotung['Sommersemester'].apply(np.int64)\n",
    "daten_ss = benotung.loc[Schueler_ss]['Sommersemester'] \n",
    "\n",
    "#Schularbeitsnoten\n",
    "sa_ss = benotung.loc[Schueler_ss]['Schularbeit SS']\n",
    "nachsa_ss = benotung.loc[Schueler_ss]['Nachschularbeit SS']\n",
    "whsa_ss = benotung.loc[Schueler_ss]['Wiederholungsschularbeit SS']\n",
    "\n",
    "#Leistungen der B-Note im Wintersemester\n",
    "rep_esc1ss = benotung.loc[Schueler_ss]['repaso escrito SS 1']\n",
    "rep_esc2ss = benotung.loc[Schueler_ss]['repaso escrito SS 2']\n",
    "rep_esc3ss = benotung.loc[Schueler_ss]['repaso escrito SS 3']\n",
    "rep_or1ss = benotung.loc[Schueler_ss]['repaso oral SS 1']\n",
    "rep_or2ss = benotung.loc[Schueler_ss]['repaso oral SS 2']\n",
    "\n",
    "#Anmerkung zur Mitarbeit/zu den Hausübungen\n",
    "anm_mitarbeitss = benotung.loc[Schueler_ss]['Mitarbeit SS']\n",
    "hausuebungen_ss = benotung.loc[Schueler_ss]['Hausübungen SS']\n",
    "\n",
    "\n",
    "#Aktueller Notenstand\n",
    "notenstand_ss = benotung.loc[Schueler_ss]['Notenstand SS']\n",
    "\n",
    "#Noch notwendige Leistung (Prüfung, mündliche WH, etc.)\n",
    "\n",
    "leistung_ss = benotung.loc[Schueler_ss]['Notwendige Leistung SS']\n",
    "\n",
    "#Zusätzliche Anmerkungen\n",
    "\n",
    "anmerkungen_ss = benotung.loc[Schueler_ss]['Zusätzliche Anmerkungen SS']"
   ]
  },
  {
   "cell_type": "code",
   "execution_count": null,
   "metadata": {
    "colab": {
     "base_uri": "https://localhost:8080/"
    },
    "id": "dB_ePoTIBG0h",
    "outputId": "06901910-7a16-4965-8c6c-a2b76b07900c"
   },
   "outputs": [
    {
     "name": "stdout",
     "output_type": "stream",
     "text": [
      "Lieber Max,\n",
      "\n",
      "unterhalb findest du die wichtigsten INFORMATIONEN zu deinem aktuellen Notenstand im Sommersemester 2023.\n",
      "\n",
      "Semesternote (WS 2022/23): Befriedigend\n",
      "\n",
      "Schularbeitsnote(n) im Sommersemester 2023:\n",
      "--> Schularbeit: Sehr gut\n",
      "--> Nachschularbeit: nan\n",
      "--> Wiederholungsschularbeit: nan\n",
      "\n",
      "Leistungen der B-Note im Sommersemester 2023:\n",
      "--> repaso escrito 1: (-)\n",
      "--> repaso escrito 2: (+)\n",
      "--> repaso escrito 3: (~)\n",
      "--> repaso oral 1: (+)\n",
      "--> repaso oral 2: (-)\n",
      "\n",
      "Anmerkung zur Mitarbeit im Unterricht: teilweise aktiv\n",
      "Anmerkung zu den Hausübungen: immer gemacht\n",
      "Aktueller Notenstand: Befriedigend\n",
      "Noch notwendige Leistung: Referat\n",
      "\n",
      "Zusätzliche Anmerkungen: \n",
      "\n",
      "Liebe Grüße,\n",
      "Felix Aufreiter\n"
     ]
    }
   ],
   "source": [
    "#Vorlage für das Sommersemester (Jahresnote) - FACH Spanisch\n",
    "print(f'{Anrede(Schueler_ss)}\\n')\n",
    "#SA-Note\n",
    "print(f'unterhalb findest du die wichtigsten INFORMATIONEN zu deinem aktuellen Notenstand im Sommersemester {daten_ss}.\\n') \n",
    "print(f'Semesternote (WS {daten_ws}): {note_ws}\\n')\n",
    "print(f'Schularbeitsnote(n) im Sommersemester {daten_ss}:\\n--> Schularbeit: {sa_ss}\\n--> Nachschularbeit: {nachsa_ss}\\n--> Wiederholungsschularbeit: {whsa_ws}\\n')\n",
    "#B-Note\n",
    "print(f'Leistungen der B-Note im Sommersemester {daten_ss}:')\n",
    "print(f'--> repaso escrito 1: ({rep_esc1ss})\\n--> repaso escrito 2: ({rep_esc2ss})\\n--> repaso escrito 3: ({rep_esc3ss})')\n",
    "print(f'--> repaso oral 1: ({rep_or1ss})\\n--> repaso oral 2: ({rep_or2ss})\\n')\n",
    "#Anmerkungen\n",
    "print(f'Anmerkung zur Mitarbeit im Unterricht: {anm_mitarbeitss}\\nAnmerkung zu den Hausübungen: {hausuebungen_ss}\\nAktueller Notenstand: {notenstand_ss}\\nNoch notwendige Leistung: {leistung_ss}\\n\\nZusätzliche Anmerkungen: ')\n",
    "print(f'\\nLiebe Grüße,\\nFelix Aufreiter')"
   ]
  }
 ],
 "metadata": {
  "colab": {
   "provenance": []
  },
  "kernelspec": {
   "display_name": "Python 3 (ipykernel)",
   "language": "python",
   "name": "python3"
  },
  "language_info": {
   "codemirror_mode": {
    "name": "ipython",
    "version": 3
   },
   "file_extension": ".py",
   "mimetype": "text/x-python",
   "name": "python",
   "nbconvert_exporter": "python",
   "pygments_lexer": "ipython3",
   "version": "3.9.12"
  }
 },
 "nbformat": 4,
 "nbformat_minor": 4
}
