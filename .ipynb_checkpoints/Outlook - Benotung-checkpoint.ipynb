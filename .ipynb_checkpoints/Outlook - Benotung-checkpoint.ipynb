{
 "cells": [
  {
   "cell_type": "markdown",
   "id": "cb5370da-a0f2-4feb-a00b-cee330841483",
   "metadata": {},
   "source": [
    "# MS Teams-Nachrichten/e-Mails zum Notenstand senden\n",
    "## Ziel\n",
    "* Automatisierung der Benachrichtigung der Schüler mit Hilfe von OUTLOOK"
   ]
  },
  {
   "cell_type": "markdown",
   "id": "63f916d9-4bf1-4d83-8cae-fb43c0af033c",
   "metadata": {},
   "source": [
    "## Youtube - Tutorials\n",
    "\n",
    "* How to send HTML formatted email in Outlook with Python https://www.youtube.com/watch?v=ZvmFHwAjXHI&list=PL8Jc4rzM8IMClrii6vVhgeme72c0JJPW-\n",
    "*  Create and Distribute Excel Files using Python and Outlook | Automate Excel with Python https://www.youtube.com/watch?v=RGR048I5ZDE&list=PL8Jc4rzM8IMClrii6vVhgeme72c0JJPW-&index=3"
   ]
  },
  {
   "cell_type": "markdown",
   "id": "aa003f7d-542d-4ee8-a1d1-2f328eb71aa2",
   "metadata": {},
   "source": [
    "### Explanation\n",
    "This code uses the win32com library to automate sending emails using Microsoft Outlook.\n",
    "It creates an Outlook application object, then creates a new email object, sets the recipient email addresses, subject, and body of the message, and then sends the email.\n",
    "\n",
    "The list of recipients is defined in the recipients variable, which contains a list of email addresses of the users to send the email to.\n",
    "It uses the ';' to separate the emails in the to field.\n",
    "\n",
    "Please note that, this code will only work if you have Microsoft Outlook installed on your machine and running.\n",
    "You may want to add error handling in case Outlook is not running or if there is any other issue that prevent the email to be sent."
   ]
  },
  {
   "cell_type": "markdown",
   "id": "f2da5ace-823d-4ff0-8040-d46a568d05cd",
   "metadata": {},
   "source": [
    "### Request 2\n",
    "\n",
    "\"Write a Python code to automate e-Mails using Microsoft Outlook. The users' e-Mail addresses are known. The text of the e-Mail should be personalized.\""
   ]
  },
  {
   "cell_type": "code",
   "execution_count": null,
   "id": "702d0ae7-c45e-41a7-a7b2-0a0dcf3e7f82",
   "metadata": {},
   "outputs": [],
   "source": [
    "import win32com.client as win32\n",
    "\n",
    "# Replace with the email addresses of the recipients\n",
    "recipients = [\n",
    "    {'email': 'user1@example.com', 'name': 'User 1'},\n",
    "    {'email': 'user2@example.com', 'name': 'User 2'},\n",
    "    {'email': 'user3@example.com', 'name': 'User 3'},\n",
    "]\n",
    "\n",
    "# Message details\n",
    "subject = \"Automated email from Python\"\n",
    "\n",
    "# Create Outlook application object\n",
    "outlook = win32.Dispatch('outlook.application')\n",
    "\n",
    "# Iterate through recipients\n",
    "for recipient in recipients:\n",
    "    # Create new email\n",
    "    mail = outlook.CreateItem(0)\n",
    "\n",
    "    # Set recipient, subject, and personalized body\n",
    "    mail.To = recipient['email']\n",
    "    mail.Subject = subject\n",
    "    mail.Body = f\"Hello {recipient['name']}, this is an automated email sent from Python using Microsoft Outlook.\"\n",
    "\n",
    "    # Send the email\n",
    "    mail.Send()"
   ]
  },
  {
   "cell_type": "markdown",
   "id": "b635221c-1ffb-4cb5-a8a8-d1a2520ad4bc",
   "metadata": {},
   "source": [
    "### Explanation\n",
    "This code uses the win32com library to automate sending personalized emails using Microsoft Outlook.\n",
    "It creates an Outlook application object, then creates a new email object, sets the recipient email addresses, subject, and personalized body of the message, and then sends the email.\n",
    "\n",
    "The list of recipients is defined in the recipients variable, which contains a list of dictionaries with the email addresses and names of the users to send the email to.\n",
    "It loops through the recipients, creates a new email for each of them and personalize the body message for each recipient.\n",
    "\n",
    "Please note that, this code will only work if you have Microsoft Outlook installed on your machine and running.\n",
    "You may want to add error handling in case Outlook is not running or if there is any other issue that prevent the email to be sent."
   ]
  },
  {
   "cell_type": "markdown",
   "id": "eb9f25bb-b982-41f9-9206-92d9b6fab1f5",
   "metadata": {},
   "source": [
    "## Chat GPT-Vorschlag: MS Teams\n",
    "\n",
    "### Request\n",
    "\n",
    "\"Write a Python code to automate chat messages using Microsoft Teams. The users' Microsoft Teams e-Mail addresses are known.\""
   ]
  },
  {
   "cell_type": "code",
   "execution_count": null,
   "id": "5ff08acb-3715-47d3-89e3-783d4ce74a0b",
   "metadata": {},
   "outputs": [],
   "source": [
    "import requests\n",
    "import json\n",
    "\n",
    "# Replace with your own Microsoft Teams webhook URL\n",
    "webhook_url = 'https://outlook.office.com/webhook/...'\n",
    "\n",
    "# List of email addresses for the users you want to send the message to\n",
    "recipients = ['user1@example.com', 'user2@example.com', 'user3@example.com']\n",
    "\n",
    "# Message to send\n",
    "message = {\n",
    "    \"@type\": \"MessageCard\",\n",
    "    \"@context\": \"http://schema.org/extensions\",\n",
    "    \"summary\": \"Chat message from Python\",\n",
    "    \"themeColor\": \"0072C6\",\n",
    "    \"title\": \"New chat message\",\n",
    "    \"text\": \"Hello from Python!\",\n",
    "    \"potentialAction\": [\n",
    "        {\n",
    "            \"@type\": \"OpenUri\",\n",
    "            \"name\": \"View details\",\n",
    "            \"targets\": [\n",
    "                { \"os\": \"default\", \"uri\": \"https://example.com\" }\n",
    "            ]\n",
    "        }\n",
    "    ]\n",
    "}\n",
    "\n",
    "# Create a list of recipients in the format required by the Graph API\n",
    "to_recipients = [{\"emailAddress\": {\"address\": email}} for email in recipients]\n",
    "\n",
    "# Send the message\n",
    "headers = {'Content-Type': 'application/json'}\n",
    "data = json.dumps({\"toRecipients\": to_recipients, \"body\": {\"contentType\": \"text\", \"content\": message}})\n",
    "response = requests.post(webhook_url, headers=headers, data=data)\n",
    "\n",
    "# Print the response status code\n",
    "print(response.status_code)\n"
   ]
  },
  {
   "cell_type": "markdown",
   "id": "09a3523e-8d3d-453e-8fee-6559359e97f3",
   "metadata": {},
   "source": [
    "### Explanation\n",
    "This code sends a chat message to multiple users in Microsoft Teams using the Graph API.\n",
    "It uses the requests library to send a POST request to the Graph API endpoint, with the message and recipient information as the request body.\n",
    "It also include the json library to format the message in JSON format.\n",
    "\n",
    "The list of recipients is defined in the recipients variable, which contains a list of email addresses of the users to send the message to.\n",
    "It loops through the recipients and create a list of recipients in the format required by the Graph API and then sends the message to all the recipients.\n",
    "\n",
    "You will need to have access to the Microsoft Graph API and a valid access token to use this code.\n",
    "\n",
    "It is important to note that, this is just an example and may require additional modifications to work in your specific use case, such as handling authentication and error handling."
   ]
  },
  {
   "cell_type": "markdown",
   "id": "28eabda0-9169-46cd-867d-d7234127d5da",
   "metadata": {},
   "source": [
    "### Request 2\n",
    "\n",
    "\"Write a Python code to automate chat messages using Microsoft Teams. The users' Microsoft Teams e-Mail addresses are known. The text should be personalized.\""
   ]
  },
  {
   "cell_type": "code",
   "execution_count": null,
   "id": "9ad63426-3ff8-49bd-840f-8e30048ad05f",
   "metadata": {},
   "outputs": [],
   "source": [
    "import requests\n",
    "import json\n",
    "\n",
    "# Replace with your own Microsoft Teams webhook URL\n",
    "webhook_url = 'https://outlook.office.com/webhook/...'\n",
    "\n",
    "# List of recipients, with email addresses and names\n",
    "recipients = [\n",
    "    {'email': 'user1@example.com', 'name': 'User 1'},\n",
    "    {'email': 'user2@example.com', 'name': 'User 2'},\n",
    "    {'email': 'user3@example.com', 'name': 'User 3'},\n",
    "]\n",
    "\n",
    "# Message to send\n",
    "message = {\n",
    "    \"@type\": \"MessageCard\",\n",
    "    \"@context\": \"http://schema.org/extensions\",\n",
    "    \"summary\": \"Chat message from Python\",\n",
    "    \"themeColor\": \"0072C6\",\n",
    "    \"title\": \"New chat message\",\n",
    "    \"potentialAction\": [\n",
    "        {\n",
    "            \"@type\": \"OpenUri\",\n",
    "            \"name\": \"View details\",\n",
    "            \"targets\": [\n",
    "                { \"os\": \"default\", \"uri\": \"https://example.com\" }\n",
    "            ]\n",
    "        }\n",
    "    ]\n",
    "}\n",
    "\n",
    "# Send the message to each recipient\n",
    "for recipient in recipients:\n",
    "    # Personalize the message\n",
    "    message[\"text\"] = f\"Hello {recipient['name']}, this is a personalized message from Python!\"\n",
    "\n",
    "    # Create a list of recipients in the format required by the Graph API\n",
    "    to_recipients = [{\"emailAddress\": {\"address\": recipient['email']}}]\n",
    "\n",
    "    # Send the message\n",
    "    headers = {'Content-Type': 'application/json'}\n",
    "    data = json.dumps({\"toRecipients\": to_recipients, \"body\": {\"contentType\": \"text\", \"content\": message}})\n",
    "    response = requests.post(webhook_url, headers=headers, data=data)\n",
    "\n",
    "    # Print the response status code\n",
    "    print(f'Sent message to {recipient[\"email\"]}. Response code: {response.status_code}')\n"
   ]
  },
  {
   "cell_type": "markdown",
   "id": "0b8f03bc-0ce6-4f76-9046-e4ae8f82e91e",
   "metadata": {},
   "source": [
    "### Explanation\n",
    "\n",
    "This code sends personalized chat messages to multiple users in Microsoft Teams using the Graph API.\n",
    "It uses the requests library to send a POST request to the Graph API endpoint, with the message and recipient information as the request body.\n",
    "It also include the json library to format the message in JSON format.\n",
    "\n",
    "The list of recipients is defined in the recipients variable, which contains a list of dictionaries with the email addresses and names of the users to send the message to.\n",
    "It loops through the recipients, personalizes the message for each of them, creates a list of recipients in the format required by the Graph API and then sends the message.\n",
    "\n",
    "You will need to have access to the Microsoft Graph API and a valid access token to use this code.\n",
    "\n",
    "It is important to note that, this is just an example and may require additional modifications to work in your specific use case, such as handling authentication and error handling.\n"
   ]
  },
  {
   "cell_type": "markdown",
   "id": "e9d57768-1ce3-4c5c-9d28-4e20d3d32f65",
   "metadata": {},
   "source": [
    "# Request 3"
   ]
  },
  {
   "cell_type": "markdown",
   "id": "85312eb9-b00d-4675-ab84-7b8373831f59",
   "metadata": {},
   "source": [
    "Write a Python code to automate chat messages using Microsoft Teams. The users' Microsoft Teams e-Mail addresses are known and no \"incoming webhook\" should be used. The text should be personalized."
   ]
  },
  {
   "cell_type": "code",
   "execution_count": null,
   "id": "f4d2155a-cc12-45f1-aee3-b3869778722f",
   "metadata": {},
   "outputs": [],
   "source": [
    "import requests\n",
    "import json\n",
    "\n",
    "# Set access token and headers\n",
    "access_token = \"YOUR_ACCESS_TOKEN\"\n",
    "headers = {\n",
    "    \"Authorization\": \"Bearer \" + access_token,\n",
    "    \"Content-Type\": \"application/json\"\n",
    "}\n",
    "\n",
    "# Set the user's email address and personalized message\n",
    "user_email = \"user@example.com\"\n",
    "message = \"Hello, [USER], this is a personalized message!\"\n",
    "\n",
    "# Replace [USER] with the user's name\n",
    "url = f\"https://graph.microsoft.com/v1.0/users/{user_email}/\"\n",
    "response = requests.get(url, headers=headers)\n",
    "user_name = response.json()[\"displayName\"]\n",
    "message = message.replace(\"[USER]\", user_name)\n",
    "\n",
    "# Send the message\n",
    "url = f\"https://graph.microsoft.com/v1.0/users/{user_email}/chats/new\"\n",
    "data = {\n",
    "    \"message\": {\n",
    "        \"body\": {\n",
    "            \"content\": message\n",
    "        }\n",
    "    }\n",
    "}\n",
    "response = requests.post(url, headers=headers, json=data)\n"
   ]
  },
  {
   "cell_type": "markdown",
   "id": "4221fc6a-148e-442d-a1ae-ecd01df1319c",
   "metadata": {},
   "source": [
    "You need to have the token with Chat.Create permissions to send message via graph API, Also you need to be sure that the user you want to send the message to is in your organization and you have their email address.\n",
    "\n",
    "This code uses the Microsoft Graph API to first retrieve the user's name from their email address, then replaces a placeholder in the message with their name, and finally sends the personalized message as a chat message to the user's Teams account."
   ]
  },
  {
   "cell_type": "code",
   "execution_count": null,
   "id": "a8880f26-eca0-4a63-9565-7c5a4907f1ad",
   "metadata": {},
   "outputs": [],
   "source": []
  }
 ],
 "metadata": {
  "kernelspec": {
   "display_name": "Python 3 (ipykernel)",
   "language": "python",
   "name": "python3"
  },
  "language_info": {
   "codemirror_mode": {
    "name": "ipython",
    "version": 3
   },
   "file_extension": ".py",
   "mimetype": "text/x-python",
   "name": "python",
   "nbconvert_exporter": "python",
   "pygments_lexer": "ipython3",
   "version": "3.9.12"
  }
 },
 "nbformat": 4,
 "nbformat_minor": 5
}
