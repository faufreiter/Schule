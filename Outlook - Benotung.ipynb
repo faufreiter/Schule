{
 "cells": [
  {
   "cell_type": "markdown",
   "id": "cb5370da-a0f2-4feb-a00b-cee330841483",
   "metadata": {},
   "source": [
    "# Mails zum Notenstand senden\n",
    "\n",
    "## Ziel: \n",
    "* Automatisierung der Benachrichtigung der Schüler mit Hilfe von OUTLOOK"
   ]
  },
  {
   "cell_type": "markdown",
   "id": "63f916d9-4bf1-4d83-8cae-fb43c0af033c",
   "metadata": {},
   "source": [
    "## Youtube - Tutorials\n",
    "\n",
    "* How to send HTML formatted email in Outlook with Python https://www.youtube.com/watch?v=ZvmFHwAjXHI&list=PL8Jc4rzM8IMClrii6vVhgeme72c0JJPW-\n",
    "*  Create and Distribute Excel Files using Python and Outlook | Automate Excel with Python https://www.youtube.com/watch?v=RGR048I5ZDE&list=PL8Jc4rzM8IMClrii6vVhgeme72c0JJPW-&index=3"
   ]
  },
  {
   "cell_type": "code",
   "execution_count": null,
   "id": "4cc59e67-6076-4eb3-af85-8bceb677dd36",
   "metadata": {},
   "outputs": [],
   "source": []
  }
 ],
 "metadata": {
  "kernelspec": {
   "display_name": "Python 3 (ipykernel)",
   "language": "python",
   "name": "python3"
  },
  "language_info": {
   "codemirror_mode": {
    "name": "ipython",
    "version": 3
   },
   "file_extension": ".py",
   "mimetype": "text/x-python",
   "name": "python",
   "nbconvert_exporter": "python",
   "pygments_lexer": "ipython3",
   "version": "3.9.12"
  }
 },
 "nbformat": 4,
 "nbformat_minor": 5
}
